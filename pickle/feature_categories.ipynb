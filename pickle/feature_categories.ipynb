{
 "cells": [
  {
   "cell_type": "code",
   "execution_count": 13,
   "id": "24c44319-cd13-490c-bb59-cd455a677d6d",
   "metadata": {},
   "outputs": [
    {
     "name": "stderr",
     "output_type": "stream",
     "text": [
      "/tmp/ipykernel_26281/2369288651.py:19: UserWarning: pandas only supports SQLAlchemy connectable (engine/connection) or database string URI or sqlite3 DBAPI2 connection. Other DBAPI2 objects are not tested. Please consider using SQLAlchemy.\n",
      "  joblarge = pd.read_sql_query(query, conn)\n",
      "/tmp/ipykernel_26281/2369288651.py:22: UserWarning: pandas only supports SQLAlchemy connectable (engine/connection) or database string URI or sqlite3 DBAPI2 connection. Other DBAPI2 objects are not tested. Please consider using SQLAlchemy.\n",
      "  jobsmall = pd.read_sql_query(query, conn)\n",
      "/tmp/ipykernel_26281/2369288651.py:25: UserWarning: pandas only supports SQLAlchemy connectable (engine/connection) or database string URI or sqlite3 DBAPI2 connection. Other DBAPI2 objects are not tested. Please consider using SQLAlchemy.\n",
      "  majorsmall = pd.read_sql_query(query, conn)\n",
      "/tmp/ipykernel_26281/2369288651.py:28: UserWarning: pandas only supports SQLAlchemy connectable (engine/connection) or database string URI or sqlite3 DBAPI2 connection. Other DBAPI2 objects are not tested. Please consider using SQLAlchemy.\n",
      "  majorlarge = pd.read_sql_query(query, conn)\n",
      "/tmp/ipykernel_26281/2369288651.py:31: UserWarning: pandas only supports SQLAlchemy connectable (engine/connection) or database string URI or sqlite3 DBAPI2 connection. Other DBAPI2 objects are not tested. Please consider using SQLAlchemy.\n",
      "  company = pd.read_sql_query(query, conn)\n",
      "/tmp/ipykernel_26281/2369288651.py:34: UserWarning: pandas only supports SQLAlchemy connectable (engine/connection) or database string URI or sqlite3 DBAPI2 connection. Other DBAPI2 objects are not tested. Please consider using SQLAlchemy.\n",
      "  school = pd.read_sql_query(query, conn)\n",
      "/tmp/ipykernel_26281/2369288651.py:37: UserWarning: pandas only supports SQLAlchemy connectable (engine/connection) or database string URI or sqlite3 DBAPI2 connection. Other DBAPI2 objects are not tested. Please consider using SQLAlchemy.\n",
      "  question = pd.read_sql_query(query, conn)\n",
      "/tmp/ipykernel_26281/2369288651.py:40: UserWarning: pandas only supports SQLAlchemy connectable (engine/connection) or database string URI or sqlite3 DBAPI2 connection. Other DBAPI2 objects are not tested. Please consider using SQLAlchemy.\n",
      "  rectype = pd.read_sql_query(query, conn)\n",
      "/tmp/ipykernel_26281/2369288651.py:43: UserWarning: pandas only supports SQLAlchemy connectable (engine/connection) or database string URI or sqlite3 DBAPI2 connection. Other DBAPI2 objects are not tested. Please consider using SQLAlchemy.\n",
      "  user_data = pd.read_sql_query(query, conn)\n",
      "/tmp/ipykernel_26281/2369288651.py:46: UserWarning: pandas only supports SQLAlchemy connectable (engine/connection) or database string URI or sqlite3 DBAPI2 connection. Other DBAPI2 objects are not tested. Please consider using SQLAlchemy.\n",
      "  answerlogs = pd.read_sql_query(query, conn)\n",
      "/tmp/ipykernel_26281/2369288651.py:49: UserWarning: pandas only supports SQLAlchemy connectable (engine/connection) or database string URI or sqlite3 DBAPI2 connection. Other DBAPI2 objects are not tested. Please consider using SQLAlchemy.\n",
      "  evallogs = pd.read_sql_query(query, conn)\n",
      "/tmp/ipykernel_26281/2369288651.py:52: UserWarning: pandas only supports SQLAlchemy connectable (engine/connection) or database string URI or sqlite3 DBAPI2 connection. Other DBAPI2 objects are not tested. Please consider using SQLAlchemy.\n",
      "  reclogs = pd.read_sql_query(query, conn)\n",
      "/tmp/ipykernel_26281/2369288651.py:55: UserWarning: pandas only supports SQLAlchemy connectable (engine/connection) or database string URI or sqlite3 DBAPI2 connection. Other DBAPI2 objects are not tested. Please consider using SQLAlchemy.\n",
      "  answers = pd.read_sql_query(query, conn)\n",
      "/tmp/ipykernel_26281/2369288651.py:58: UserWarning: pandas only supports SQLAlchemy connectable (engine/connection) or database string URI or sqlite3 DBAPI2 connection. Other DBAPI2 objects are not tested. Please consider using SQLAlchemy.\n",
      "  documents = pd.read_sql_query(query, conn)\n"
     ]
    }
   ],
   "source": [
    "import numpy as np\n",
    "import pandas as pd\n",
    "import pymysql\n",
    "import ast\n",
    "from tqdm import tqdm\n",
    "import pickle\n",
    "\n",
    "\n",
    "conn = pymysql.connect(\n",
    "    user='root', \n",
    "    passwd='recommend06', \n",
    "    host='34.64.237.2', \n",
    "    db='recommendu', \n",
    "    charset='utf8'\n",
    ")\n",
    "\n",
    "\n",
    "query = 'SELECT * FROM services_joblarge'\n",
    "joblarge = pd.read_sql_query(query, conn)\n",
    "\n",
    "query = 'SELECT * FROM services_jobsmall'\n",
    "jobsmall = pd.read_sql_query(query, conn)\n",
    "\n",
    "query = 'SELECT * FROM services_majorsmall'\n",
    "majorsmall = pd.read_sql_query(query, conn)\n",
    "\n",
    "query = 'SELECT * FROM services_majorlarge'\n",
    "majorlarge = pd.read_sql_query(query, conn)\n",
    "\n",
    "query = 'SELECT * FROM services_company'\n",
    "company = pd.read_sql_query(query, conn)\n",
    "\n",
    "query = 'SELECT * FROM services_schooltype'\n",
    "school = pd.read_sql_query(query, conn)\n",
    "\n",
    "query = 'SELECT * FROM services_questiontype'\n",
    "question = pd.read_sql_query(query, conn)\n",
    "\n",
    "query = 'SELECT * FROM services_recommendtype'\n",
    "rectype = pd.read_sql_query(query, conn)\n",
    "\n",
    "query = 'SELECT * FROM accounts_user'\n",
    "user_data = pd.read_sql_query(query, conn)\n",
    "\n",
    "query = 'SELECT * FROM logs_answerlog'\n",
    "answerlogs = pd.read_sql_query(query, conn)\n",
    "\n",
    "query = 'SELECT * FROM logs_evallog'\n",
    "evallogs = pd.read_sql_query(query, conn)\n",
    "\n",
    "query = 'SELECT * FROM logs_recommendlog'\n",
    "reclogs = pd.read_sql_query(query, conn)\n",
    "\n",
    "query = 'SELECT * FROM services_answer'\n",
    "answers = pd.read_sql_query(query, conn)\n",
    "\n",
    "query = 'SELECT * FROM services_document'\n",
    "documents = pd.read_sql_query(query, conn)"
   ]
  },
  {
   "cell_type": "code",
   "execution_count": 14,
   "id": "168ba92b-2f25-4b94-87bc-7f6cc6bb8975",
   "metadata": {},
   "outputs": [],
   "source": [
    "job_large_dict = {key: value for key, value in zip(joblarge['job_large'], joblarge['job_large_id'])}\n",
    "job_small_dict = {key: value for key, value in zip(jobsmall['job_small'], jobsmall['job_small_id'])}\n",
    "major_large_dict = {key: value for key, value in zip(majorlarge['major_large'], majorlarge['major_large_id'])}\n",
    "major_small_dict = {key: value for key, value in zip(majorsmall['major_small'], majorsmall['major_small_id'])}\n",
    "company_dict = {key: value for key, value in zip(company['company'], company['company_id'])}\n",
    "school_type_dict = {key: value for key, value in zip(school['schooltype'], school['schooltype_id'])}"
   ]
  },
  {
   "cell_type": "code",
   "execution_count": 21,
   "id": "6b9d597e-ee4c-430b-a211-8828528b9aee",
   "metadata": {},
   "outputs": [],
   "source": [
    "feature_categories = {'joblarge': job_large_dict, 'jobsmall': job_small_dict, 'majorlarge': major_large_dict, 'majorsmall': major_small_dict, 'company': company_dict, 'school': school_type_dict}"
   ]
  },
  {
   "cell_type": "code",
   "execution_count": null,
   "id": "6dc8d564-e7d9-4760-928f-066308441e03",
   "metadata": {},
   "outputs": [],
   "source": []
  }
 ],
 "metadata": {
  "kernelspec": {
   "display_name": "Python 3 (ipykernel)",
   "language": "python",
   "name": "python3"
  },
  "language_info": {
   "codemirror_mode": {
    "name": "ipython",
    "version": 3
   },
   "file_extension": ".py",
   "mimetype": "text/x-python",
   "name": "python",
   "nbconvert_exporter": "python",
   "pygments_lexer": "ipython3",
   "version": "3.8.5"
  }
 },
 "nbformat": 4,
 "nbformat_minor": 5
}
